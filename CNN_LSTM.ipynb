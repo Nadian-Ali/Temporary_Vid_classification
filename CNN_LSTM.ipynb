{
  "nbformat": 4,
  "nbformat_minor": 0,
  "metadata": {
    "colab": {
      "name": "CNN_LSTM.ipynb",
      "provenance": [],
      "authorship_tag": "ABX9TyNdgu1i0hKzhmW4wRXIzJHX",
      "include_colab_link": true
    },
    "kernelspec": {
      "name": "python3",
      "display_name": "Python 3"
    },
    "language_info": {
      "name": "python"
    }
  },
  "cells": [
    {
      "cell_type": "markdown",
      "metadata": {
        "id": "view-in-github",
        "colab_type": "text"
      },
      "source": [
        "<a href=\"https://colab.research.google.com/github/Nadian-Ali/Temporary_Vid_classification/blob/main/CNN_LSTM.ipynb\" target=\"_parent\"><img src=\"https://colab.research.google.com/assets/colab-badge.svg\" alt=\"Open In Colab\"/></a>"
      ]
    },
    {
      "cell_type": "code",
      "execution_count": 1,
      "metadata": {
        "colab": {
          "base_uri": "https://localhost:8080/"
        },
        "id": "-8sRnoUh0Sov",
        "outputId": "49ddb9e2-62d7-40f3-b70f-228cb57d7af4"
      },
      "outputs": [
        {
          "output_type": "stream",
          "name": "stdout",
          "text": [
            "Mounted at /content/drive\n"
          ]
        }
      ],
      "source": [
        "from google.colab import drive\n",
        "drive.mount('/content/drive')"
      ]
    },
    {
      "cell_type": "code",
      "source": [
        "%cd '/content/drive/My Drive/Projects/Video_Rec/' "
      ],
      "metadata": {
        "colab": {
          "base_uri": "https://localhost:8080/"
        },
        "id": "S-1slsZM0Wpe",
        "outputId": "eecee0e9-66e1-4d89-c717-96b1c070f32a"
      },
      "execution_count": 4,
      "outputs": [
        {
          "output_type": "stream",
          "name": "stdout",
          "text": [
            "/content/drive/My Drive/Projects/Video_Rec\n"
          ]
        }
      ]
    },
    {
      "cell_type": "code",
      "source": [
        "!pip install -q git+https://github.com/tensorflow/docs"
      ],
      "metadata": {
        "colab": {
          "base_uri": "https://localhost:8080/"
        },
        "id": "zhY8Z_kI0Wv5",
        "outputId": "347df959-8420-418b-c78f-0b853ab8e2fa"
      },
      "execution_count": 2,
      "outputs": [
        {
          "output_type": "stream",
          "name": "stdout",
          "text": [
            "  Building wheel for tensorflow-docs (setup.py) ... \u001b[?25l\u001b[?25hdone\n"
          ]
        }
      ]
    },
    {
      "cell_type": "code",
      "source": [
        "import tensorflow as tf\n",
        "from tensorflow import keras\n",
        "from tensorflow_docs.vis import embed\n",
        "from tensorflow.keras import layers\n",
        "\n",
        "import matplotlib.pyplot as plt\n",
        "import pandas as pd\n",
        "import numpy as np\n",
        "import imageio\n",
        "import cv2\n",
        "import os"
      ],
      "metadata": {
        "id": "2a6I_fhm0W0u"
      },
      "execution_count": 6,
      "outputs": []
    },
    {
      "cell_type": "markdown",
      "source": [
        "<h4>Load data</h4>"
      ],
      "metadata": {
        "id": "y7NfUqXP0qjl"
      }
    },
    {
      "cell_type": "code",
      "source": [
        "MAX_SEQ_LENGTH = 20\n",
        "NUM_FEATURES = 1024\n",
        "IMG_SIZE = 128\n",
        "EPOCHS = 20"
      ],
      "metadata": {
        "id": "6W3MVBVJ1FtW"
      },
      "execution_count": 8,
      "outputs": []
    },
    {
      "cell_type": "code",
      "source": [
        "train_data   = np.load('resampled_train_dataset.npy')\n",
        "val_data     = np.load('resampled_val_dataset.npy')\n",
        "train_labels = np.load('train_labels.npy')\n",
        "val_labels   = np.load('val_labels.npy')\n"
      ],
      "metadata": {
        "id": "BZ30sFCR0W4P"
      },
      "execution_count": 7,
      "outputs": []
    },
    {
      "cell_type": "code",
      "source": [
        "# Utility for our sequence model.\n",
        "def get_sequence_model():\n",
        "    # class_vocab = label_processor.get_vocabulary()\n",
        "\n",
        "    frame_features_input = keras.Input((MAX_SEQ_LENGTH, NUM_FEATURES))\n",
        "    # mask_input = keras.Input((MAX_SEQ_LENGTH,), dtype=\"bool\")\n",
        "\n",
        "    # Refer to the following tutorial to understand the significance of using `mask`:\n",
        "    # https://keras.io/api/layers/recurrent_layers/gru/\n",
        "    x = keras.layers.GRU(16, return_sequences=True)(frame_features_input)\n",
        "    x = keras.layers.GRU(8)(x)\n",
        "    x = keras.layers.Dropout(0.7)(x)\n",
        "    # x = keras.layers.Dense(8, activation=\"relu\")(x)\n",
        "    output = keras.layers.Dense(1, activation=\"sigmoid\")(x)\n",
        "\n",
        "    rnn_model = keras.Model(frame_features_input, output)\n",
        "\n",
        "    rnn_model.compile(\n",
        "        loss=\"binary_crossentropy\",\n",
        "        optimizer=tf.keras.optimizers.SGD(learning_rate=0.001),\n",
        "        metrics=[\"accuracy\"]\n",
        "    )\n",
        "    return rnn_model\n",
        "\n",
        "\n",
        "# Utility for running experiments.\n",
        "# def run_experiment():\n",
        "#     filepath = \"/tmp/video_classifier\"\n",
        "#     checkpoint = keras.callbacks.ModelCheckpoint(\n",
        "#         filepath, save_weights_only=True, save_best_only=True, verbose=1\n",
        "#     )\n",
        "\n",
        "\n",
        "#     seq_model.load_weights(filepath)\n",
        "#     _, accuracy = seq_model.evaluate([test_data[0], test_data[1]], test_labels)\n",
        "#     print(f\"Test accuracy: {round(accuracy * 100, 2)}%\")\n",
        "\n",
        "#     return history, seq_model\n",
        "\n",
        "\n",
        "# _, sequence_model = run_experiment()"
      ],
      "metadata": {
        "id": "scv0uVXx0W7h"
      },
      "execution_count": 41,
      "outputs": []
    },
    {
      "cell_type": "code",
      "source": [
        "    seq_model = get_sequence_model()\n",
        "    history = seq_model.fit(\n",
        "        train_data,\n",
        "        train_labels,\n",
        "        # validation_split=0.3,\n",
        "        batch_size = 4,\n",
        "        shuffle = True,\n",
        "        epochs=30,\n",
        "        validation_data=(val_data,val_labels),\n",
        "        # callbacks=[checkpoint],\n",
        "    )\n"
      ],
      "metadata": {
        "colab": {
          "base_uri": "https://localhost:8080/"
        },
        "id": "0FnlLw9I1Xjb",
        "outputId": "702898d6-ac38-416a-909d-18f38ba81a45"
      },
      "execution_count": 42,
      "outputs": [
        {
          "output_type": "stream",
          "name": "stdout",
          "text": [
            "Epoch 1/30\n",
            "4/4 [==============================] - 4s 280ms/step - loss: 0.6402 - accuracy: 0.5385 - val_loss: 0.7694 - val_accuracy: 0.5000\n",
            "Epoch 2/30\n",
            "4/4 [==============================] - 0s 28ms/step - loss: 0.7556 - accuracy: 0.4615 - val_loss: 0.7660 - val_accuracy: 0.5000\n",
            "Epoch 3/30\n",
            "4/4 [==============================] - 0s 28ms/step - loss: 0.8920 - accuracy: 0.3846 - val_loss: 0.7735 - val_accuracy: 0.6667\n",
            "Epoch 4/30\n",
            "4/4 [==============================] - 0s 28ms/step - loss: 0.8288 - accuracy: 0.4615 - val_loss: 0.7685 - val_accuracy: 0.6667\n",
            "Epoch 5/30\n",
            "4/4 [==============================] - 0s 28ms/step - loss: 0.8654 - accuracy: 0.4615 - val_loss: 0.7628 - val_accuracy: 0.6667\n",
            "Epoch 6/30\n",
            "4/4 [==============================] - 0s 26ms/step - loss: 0.8518 - accuracy: 0.4615 - val_loss: 0.7449 - val_accuracy: 0.5000\n",
            "Epoch 7/30\n",
            "4/4 [==============================] - 0s 27ms/step - loss: 0.5617 - accuracy: 0.8462 - val_loss: 0.7477 - val_accuracy: 0.5000\n",
            "Epoch 8/30\n",
            "4/4 [==============================] - 0s 25ms/step - loss: 0.7484 - accuracy: 0.5385 - val_loss: 0.7457 - val_accuracy: 0.5000\n",
            "Epoch 9/30\n",
            "4/4 [==============================] - 0s 24ms/step - loss: 0.6671 - accuracy: 0.6923 - val_loss: 0.7253 - val_accuracy: 0.6667\n",
            "Epoch 10/30\n",
            "4/4 [==============================] - 0s 24ms/step - loss: 0.5918 - accuracy: 0.5385 - val_loss: 0.7235 - val_accuracy: 0.6667\n",
            "Epoch 11/30\n",
            "4/4 [==============================] - 0s 24ms/step - loss: 0.8268 - accuracy: 0.6154 - val_loss: 0.7218 - val_accuracy: 0.6667\n",
            "Epoch 12/30\n",
            "4/4 [==============================] - 0s 29ms/step - loss: 0.8092 - accuracy: 0.6154 - val_loss: 0.7316 - val_accuracy: 0.5000\n",
            "Epoch 13/30\n",
            "4/4 [==============================] - 0s 24ms/step - loss: 0.6800 - accuracy: 0.6154 - val_loss: 0.7506 - val_accuracy: 0.5000\n",
            "Epoch 14/30\n",
            "4/4 [==============================] - 0s 25ms/step - loss: 0.4751 - accuracy: 0.7692 - val_loss: 0.7457 - val_accuracy: 0.5000\n",
            "Epoch 15/30\n",
            "4/4 [==============================] - 0s 24ms/step - loss: 0.5807 - accuracy: 0.6154 - val_loss: 0.7537 - val_accuracy: 0.5000\n",
            "Epoch 16/30\n",
            "4/4 [==============================] - 0s 23ms/step - loss: 0.5332 - accuracy: 0.8462 - val_loss: 0.7665 - val_accuracy: 0.5000\n",
            "Epoch 17/30\n",
            "4/4 [==============================] - 0s 24ms/step - loss: 0.6434 - accuracy: 0.5385 - val_loss: 0.7814 - val_accuracy: 0.3333\n",
            "Epoch 18/30\n",
            "4/4 [==============================] - 0s 29ms/step - loss: 0.6428 - accuracy: 0.6154 - val_loss: 0.7950 - val_accuracy: 0.3333\n",
            "Epoch 19/30\n",
            "4/4 [==============================] - 0s 24ms/step - loss: 0.3751 - accuracy: 1.0000 - val_loss: 0.7792 - val_accuracy: 0.3333\n",
            "Epoch 20/30\n",
            "4/4 [==============================] - 0s 24ms/step - loss: 0.5345 - accuracy: 0.6154 - val_loss: 0.7568 - val_accuracy: 0.5000\n",
            "Epoch 21/30\n",
            "4/4 [==============================] - 0s 27ms/step - loss: 0.6216 - accuracy: 0.6154 - val_loss: 0.7819 - val_accuracy: 0.3333\n",
            "Epoch 22/30\n",
            "4/4 [==============================] - 0s 28ms/step - loss: 0.6371 - accuracy: 0.6923 - val_loss: 0.8330 - val_accuracy: 0.3333\n",
            "Epoch 23/30\n",
            "4/4 [==============================] - 0s 24ms/step - loss: 0.6928 - accuracy: 0.6154 - val_loss: 0.8325 - val_accuracy: 0.3333\n",
            "Epoch 24/30\n",
            "4/4 [==============================] - 0s 27ms/step - loss: 0.5803 - accuracy: 0.6154 - val_loss: 0.8317 - val_accuracy: 0.3333\n",
            "Epoch 25/30\n",
            "4/4 [==============================] - 0s 24ms/step - loss: 0.4788 - accuracy: 0.8462 - val_loss: 0.8059 - val_accuracy: 0.3333\n",
            "Epoch 26/30\n",
            "4/4 [==============================] - 0s 24ms/step - loss: 0.6813 - accuracy: 0.6923 - val_loss: 0.7594 - val_accuracy: 0.5000\n",
            "Epoch 27/30\n",
            "4/4 [==============================] - 0s 28ms/step - loss: 0.4745 - accuracy: 0.9231 - val_loss: 0.7792 - val_accuracy: 0.5000\n",
            "Epoch 28/30\n",
            "4/4 [==============================] - 0s 25ms/step - loss: 0.4451 - accuracy: 0.9231 - val_loss: 0.7725 - val_accuracy: 0.5000\n",
            "Epoch 29/30\n",
            "4/4 [==============================] - 0s 27ms/step - loss: 0.5314 - accuracy: 0.6154 - val_loss: 0.7558 - val_accuracy: 0.5000\n",
            "Epoch 30/30\n",
            "4/4 [==============================] - 0s 27ms/step - loss: 0.4978 - accuracy: 0.7692 - val_loss: 0.7516 - val_accuracy: 0.5000\n"
          ]
        }
      ]
    }
  ]
}