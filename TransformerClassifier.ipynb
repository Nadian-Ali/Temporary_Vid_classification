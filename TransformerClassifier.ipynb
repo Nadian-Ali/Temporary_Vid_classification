{
  "nbformat": 4,
  "nbformat_minor": 0,
  "metadata": {
    "colab": {
      "name": "TransformerClassifier.ipynb",
      "provenance": [],
      "authorship_tag": "ABX9TyPZtE1z3JjEQ63ZYeAmi9EF",
      "include_colab_link": true
    },
    "kernelspec": {
      "name": "python3",
      "display_name": "Python 3"
    },
    "language_info": {
      "name": "python"
    }
  },
  "cells": [
    {
      "cell_type": "markdown",
      "metadata": {
        "id": "view-in-github",
        "colab_type": "text"
      },
      "source": [
        "<a href=\"https://colab.research.google.com/github/Nadian-Ali/Temporary_Vid_classification/blob/main/TransformerClassifier.ipynb\" target=\"_parent\"><img src=\"https://colab.research.google.com/assets/colab-badge.svg\" alt=\"Open In Colab\"/></a>"
      ]
    },
    {
      "cell_type": "code",
      "execution_count": 2,
      "metadata": {
        "colab": {
          "base_uri": "https://localhost:8080/"
        },
        "id": "__8StIsRlim1",
        "outputId": "7f46b9b4-d43b-4e71-8f1a-7bda77aaf84f"
      },
      "outputs": [
        {
          "output_type": "stream",
          "name": "stdout",
          "text": [
            "Mounted at /content/drive\n"
          ]
        }
      ],
      "source": [
        "from google.colab import drive\n",
        "drive.mount('/content/drive')"
      ]
    },
    {
      "cell_type": "code",
      "source": [
        "%cd '/content/drive/My Drive/Projects/Video_Rec/' "
      ],
      "metadata": {
        "colab": {
          "base_uri": "https://localhost:8080/"
        },
        "id": "CNexshuHtPeD",
        "outputId": "4872d1ad-50eb-46d9-eac3-91cb1fa8d653"
      },
      "execution_count": 3,
      "outputs": [
        {
          "output_type": "stream",
          "name": "stdout",
          "text": [
            "/content/drive/My Drive/Projects/Video_Rec\n"
          ]
        }
      ]
    },
    {
      "cell_type": "markdown",
      "source": [
        "<h1> Define deep model </h1>\n"
      ],
      "metadata": {
        "id": "RKVEnX85tX6N"
      }
    },
    {
      "cell_type": "code",
      "source": [
        "!pip install -q git+https://github.com/tensorflow/docs"
      ],
      "metadata": {
        "colab": {
          "base_uri": "https://localhost:8080/"
        },
        "id": "wwsSTO8OtuKw",
        "outputId": "6c711ec3-b11f-4896-9b4c-86bae3c4ffe1"
      },
      "execution_count": 4,
      "outputs": [
        {
          "output_type": "stream",
          "name": "stdout",
          "text": [
            "  Building wheel for tensorflow-docs (setup.py) ... \u001b[?25l\u001b[?25hdone\n"
          ]
        }
      ]
    },
    {
      "cell_type": "code",
      "source": [
        "import tensorflow as tf\n",
        "from tensorflow import keras\n",
        "from tensorflow_docs.vis import embed\n",
        "from tensorflow.keras import layers\n",
        "\n",
        "import matplotlib.pyplot as plt\n",
        "import pandas as pd\n",
        "import numpy as np\n",
        "import imageio\n",
        "import cv2\n",
        "import os"
      ],
      "metadata": {
        "id": "MTXeo_WKtf8B"
      },
      "execution_count": 5,
      "outputs": []
    },
    {
      "cell_type": "code",
      "source": [
        "class PositionalEmbedding(layers.Layer):\n",
        "    def __init__(self, sequence_length, output_dim, **kwargs):\n",
        "        super().__init__(**kwargs)\n",
        "        self.position_embeddings = layers.Embedding(\n",
        "            input_dim=sequence_length, output_dim=output_dim\n",
        "        )\n",
        "        self.sequence_length = sequence_length\n",
        "        self.output_dim = output_dim\n",
        "\n",
        "    def call(self, inputs):\n",
        "        # The inputs are of shape: `(batch_size, frames, num_features)`\n",
        "        length = tf.shape(inputs)[1]\n",
        "        positions = tf.range(start=0, limit=length, delta=1)\n",
        "        embedded_positions = self.position_embeddings(positions)\n",
        "        return inputs + embedded_positions\n",
        "\n",
        "    def compute_mask(self, inputs, mask=None):\n",
        "        mask = tf.reduce_any(tf.cast(inputs, \"bool\"), axis=-1)\n",
        "        return mask"
      ],
      "metadata": {
        "id": "Zuoi-hqAtPiV"
      },
      "execution_count": 6,
      "outputs": []
    },
    {
      "cell_type": "code",
      "source": [
        "class TransformerEncoder(layers.Layer):\n",
        "    def __init__(self, embed_dim, dense_dim, num_heads, **kwargs):\n",
        "        super().__init__(**kwargs)\n",
        "        self.embed_dim = embed_dim\n",
        "        self.dense_dim = dense_dim\n",
        "        self.num_heads = num_heads\n",
        "        self.attention = layers.MultiHeadAttention(\n",
        "            num_heads=num_heads, key_dim=embed_dim, dropout=0.3\n",
        "        )\n",
        "        self.dense_proj = keras.Sequential(\n",
        "            [layers.Dense(dense_dim, activation=tf.nn.gelu), layers.Dense(embed_dim),]\n",
        "        )\n",
        "        self.layernorm_1 = layers.LayerNormalization()\n",
        "        self.layernorm_2 = layers.LayerNormalization()\n",
        "\n",
        "    def call(self, inputs, mask=None):\n",
        "        if mask is not None:\n",
        "            mask = mask[:, tf.newaxis, :]\n",
        "\n",
        "        attention_output = self.attention(inputs, inputs, attention_mask=mask)\n",
        "        proj_input = self.layernorm_1(inputs + attention_output)\n",
        "        proj_output = self.dense_proj(proj_input)\n",
        "        return self.layernorm_2(proj_input + proj_output)"
      ],
      "metadata": {
        "id": "3YWTbQHztfHa"
      },
      "execution_count": 7,
      "outputs": []
    },
    {
      "cell_type": "code",
      "source": [
        "MAX_SEQ_LENGTH = 20\n",
        "NUM_FEATURES = 1024\n",
        "IMG_SIZE = 128\n",
        "\n",
        "EPOCHS = 20\n",
        "\n"
      ],
      "metadata": {
        "id": "KTq0_bsBufmu"
      },
      "execution_count": 21,
      "outputs": []
    },
    {
      "cell_type": "code",
      "source": [
        "def get_compiled_model():\n",
        "    sequence_length = MAX_SEQ_LENGTH\n",
        "    embed_dim = NUM_FEATURES\n",
        "    dense_dim = 4\n",
        "    num_heads = 1\n",
        "    classes = 2\n",
        "\n",
        "    inputs = keras.Input(shape=(None, None))\n",
        "    x = PositionalEmbedding(\n",
        "        sequence_length, embed_dim, name=\"frame_position_embedding\"\n",
        "    )(inputs)\n",
        "    x = TransformerEncoder(embed_dim, dense_dim, num_heads, name=\"transformer_layer\")(x)\n",
        "    x = layers.GlobalMaxPooling1D()(x)\n",
        "    x = layers.Dropout(0.5)(x)\n",
        "    outputs = layers.Dense(1, activation=\"sigmoid\")(x)\n",
        "    model = keras.Model(inputs, outputs)\n",
        "\n",
        "    model.compile(\n",
        "        optimizer=tf.keras.optimizers.SGD(learning_rate=0.0001, momentum=0.0), loss=\"binary_crossentropy\", metrics=[\"accuracy\"]\n",
        "    )\n",
        "    return model\n",
        "\n",
        "\n",
        "# def run_experiment():\n",
        "#     filepath = \"/tmp/video_classifier\"\n",
        "#     checkpoint = keras.callbacks.ModelCheckpoint(\n",
        "#         filepath, save_weights_only=True, save_best_only=True, verbose=1\n",
        "#     )\n",
        "\n",
        "#     model = get_compiled_model()\n",
        "#     history = model.fit(\n",
        "#         train_data,\n",
        "#         train_labels,\n",
        "#         validation_split=0.15,\n",
        "#         epochs=EPOCHS,\n",
        "#         callbacks=[checkpoint],\n",
        "#     )\n",
        "\n",
        "#     model.load_weights(filepath)\n",
        "#     _, accuracy = model.evaluate(test_data, test_labels)\n",
        "#     print(f\"Test accuracy: {round(accuracy * 100, 2)}%\")\n",
        "\n",
        "#     return model"
      ],
      "metadata": {
        "id": "kx-r6wr2tPmT"
      },
      "execution_count": 29,
      "outputs": []
    },
    {
      "cell_type": "code",
      "source": [
        "\n",
        "def train_model():\n",
        "    filepath = \"/tmp/video_classifier\"\n",
        "    checkpoint = keras.callbacks.ModelCheckpoint(\n",
        "        filepath, save_weights_only=True, save_best_only=True, verbose=1\n",
        "    )\n",
        "\n",
        "    model = get_compiled_model()\n",
        "    history = model.fit(\n",
        "        train_data,\n",
        "        train_labels,\n",
        "        # validation_split=0.15,\n",
        "        batch_size = 1,\n",
        "        validation_data = (val_data,val_labels),\n",
        "        epochs=EPOCHS,\n",
        "        callbacks=[checkpoint],\n",
        "    )\n",
        "\n",
        "    return model"
      ],
      "metadata": {
        "id": "oLeY2isitPpE"
      },
      "execution_count": 30,
      "outputs": []
    },
    {
      "cell_type": "markdown",
      "source": [
        "<h1>Load data</h1>"
      ],
      "metadata": {
        "id": "rXqxa5YzyBgy"
      }
    },
    {
      "cell_type": "code",
      "source": [
        "train_data   = np.load('resampled_train_dataset.npy')\n",
        "val_data     = np.load('resampled_val_dataset.npy')\n",
        "train_labels = np.load('train_labels.npy')\n",
        "val_labels   = np.load('val_labels.npy')\n"
      ],
      "metadata": {
        "id": "JBmDvJZktPso"
      },
      "execution_count": 31,
      "outputs": []
    },
    {
      "cell_type": "code",
      "source": [
        "model =  train_model()\n"
      ],
      "metadata": {
        "colab": {
          "base_uri": "https://localhost:8080/"
        },
        "id": "9_BUeOxAzYYB",
        "outputId": "dcad5f44-83a9-44ff-b7b3-bb7961e55d86"
      },
      "execution_count": 32,
      "outputs": [
        {
          "output_type": "stream",
          "name": "stdout",
          "text": [
            "Epoch 1/20\n",
            "13/13 [==============================] - ETA: 0s - loss: 1.9379 - accuracy: 0.3846\n",
            "Epoch 1: val_loss improved from inf to 0.91757, saving model to /tmp/video_classifier\n",
            "13/13 [==============================] - 2s 89ms/step - loss: 1.9379 - accuracy: 0.3846 - val_loss: 0.9176 - val_accuracy: 0.5000\n",
            "Epoch 2/20\n",
            "13/13 [==============================] - ETA: 0s - loss: 0.6545 - accuracy: 0.6923\n",
            "Epoch 2: val_loss improved from 0.91757 to 0.80171, saving model to /tmp/video_classifier\n",
            "13/13 [==============================] - 1s 67ms/step - loss: 0.6545 - accuracy: 0.6923 - val_loss: 0.8017 - val_accuracy: 0.3333\n",
            "Epoch 3/20\n",
            "13/13 [==============================] - ETA: 0s - loss: 2.1822 - accuracy: 0.5385\n",
            "Epoch 3: val_loss did not improve from 0.80171\n",
            "13/13 [==============================] - 1s 62ms/step - loss: 2.1822 - accuracy: 0.5385 - val_loss: 0.8708 - val_accuracy: 0.5000\n",
            "Epoch 4/20\n",
            "13/13 [==============================] - ETA: 0s - loss: 1.4020 - accuracy: 0.4615\n",
            "Epoch 4: val_loss improved from 0.80171 to 0.76371, saving model to /tmp/video_classifier\n",
            "13/13 [==============================] - 1s 66ms/step - loss: 1.4020 - accuracy: 0.4615 - val_loss: 0.7637 - val_accuracy: 0.5000\n",
            "Epoch 5/20\n",
            "13/13 [==============================] - ETA: 0s - loss: 0.5448 - accuracy: 0.7692\n",
            "Epoch 5: val_loss improved from 0.76371 to 0.70266, saving model to /tmp/video_classifier\n",
            "13/13 [==============================] - 1s 77ms/step - loss: 0.5448 - accuracy: 0.7692 - val_loss: 0.7027 - val_accuracy: 0.6667\n",
            "Epoch 6/20\n",
            "13/13 [==============================] - ETA: 0s - loss: 0.5717 - accuracy: 0.7692\n",
            "Epoch 6: val_loss improved from 0.70266 to 0.69952, saving model to /tmp/video_classifier\n",
            "13/13 [==============================] - 1s 68ms/step - loss: 0.5717 - accuracy: 0.7692 - val_loss: 0.6995 - val_accuracy: 0.6667\n",
            "Epoch 7/20\n",
            "13/13 [==============================] - ETA: 0s - loss: 0.8918 - accuracy: 0.6154\n",
            "Epoch 7: val_loss did not improve from 0.69952\n",
            "13/13 [==============================] - 1s 65ms/step - loss: 0.8918 - accuracy: 0.6154 - val_loss: 1.0500 - val_accuracy: 0.6667\n",
            "Epoch 8/20\n",
            "13/13 [==============================] - ETA: 0s - loss: 0.9626 - accuracy: 0.6154\n",
            "Epoch 8: val_loss did not improve from 0.69952\n",
            "13/13 [==============================] - 1s 63ms/step - loss: 0.9626 - accuracy: 0.6154 - val_loss: 0.7246 - val_accuracy: 0.5000\n",
            "Epoch 9/20\n",
            "13/13 [==============================] - ETA: 0s - loss: 0.4428 - accuracy: 0.8462\n",
            "Epoch 9: val_loss improved from 0.69952 to 0.69322, saving model to /tmp/video_classifier\n",
            "13/13 [==============================] - 1s 67ms/step - loss: 0.4428 - accuracy: 0.8462 - val_loss: 0.6932 - val_accuracy: 0.6667\n",
            "Epoch 10/20\n",
            "13/13 [==============================] - ETA: 0s - loss: 0.4110 - accuracy: 0.6923\n",
            "Epoch 10: val_loss did not improve from 0.69322\n",
            "13/13 [==============================] - 1s 60ms/step - loss: 0.4110 - accuracy: 0.6923 - val_loss: 1.4751 - val_accuracy: 0.6667\n",
            "Epoch 11/20\n",
            "13/13 [==============================] - ETA: 0s - loss: 0.5838 - accuracy: 0.7692\n",
            "Epoch 11: val_loss did not improve from 0.69322\n",
            "13/13 [==============================] - 1s 61ms/step - loss: 0.5838 - accuracy: 0.7692 - val_loss: 0.7074 - val_accuracy: 0.6667\n",
            "Epoch 12/20\n",
            "13/13 [==============================] - ETA: 0s - loss: 0.3747 - accuracy: 0.8462\n",
            "Epoch 12: val_loss did not improve from 0.69322\n",
            "13/13 [==============================] - 1s 65ms/step - loss: 0.3747 - accuracy: 0.8462 - val_loss: 0.7911 - val_accuracy: 0.6667\n",
            "Epoch 13/20\n",
            "13/13 [==============================] - ETA: 0s - loss: 0.1280 - accuracy: 1.0000\n",
            "Epoch 13: val_loss did not improve from 0.69322\n",
            "13/13 [==============================] - 1s 64ms/step - loss: 0.1280 - accuracy: 1.0000 - val_loss: 0.8860 - val_accuracy: 0.5000\n",
            "Epoch 14/20\n",
            "13/13 [==============================] - ETA: 0s - loss: 0.6928 - accuracy: 0.7692\n",
            "Epoch 14: val_loss did not improve from 0.69322\n",
            "13/13 [==============================] - 1s 64ms/step - loss: 0.6928 - accuracy: 0.7692 - val_loss: 0.8105 - val_accuracy: 0.8333\n",
            "Epoch 15/20\n",
            "13/13 [==============================] - ETA: 0s - loss: 0.1997 - accuracy: 0.8462\n",
            "Epoch 15: val_loss did not improve from 0.69322\n",
            "13/13 [==============================] - 1s 64ms/step - loss: 0.1997 - accuracy: 0.8462 - val_loss: 0.7546 - val_accuracy: 0.6667\n",
            "Epoch 16/20\n",
            "13/13 [==============================] - ETA: 0s - loss: 0.1986 - accuracy: 0.9231\n",
            "Epoch 16: val_loss did not improve from 0.69322\n",
            "13/13 [==============================] - 1s 64ms/step - loss: 0.1986 - accuracy: 0.9231 - val_loss: 0.9740 - val_accuracy: 0.5000\n",
            "Epoch 17/20\n",
            "13/13 [==============================] - ETA: 0s - loss: 0.4209 - accuracy: 0.8462\n",
            "Epoch 17: val_loss did not improve from 0.69322\n",
            "13/13 [==============================] - 1s 64ms/step - loss: 0.4209 - accuracy: 0.8462 - val_loss: 1.0092 - val_accuracy: 0.5000\n",
            "Epoch 18/20\n",
            "13/13 [==============================] - ETA: 0s - loss: 0.2483 - accuracy: 0.8462\n",
            "Epoch 18: val_loss did not improve from 0.69322\n",
            "13/13 [==============================] - 1s 62ms/step - loss: 0.2483 - accuracy: 0.8462 - val_loss: 0.7605 - val_accuracy: 0.6667\n",
            "Epoch 19/20\n",
            "13/13 [==============================] - ETA: 0s - loss: 0.0276 - accuracy: 1.0000\n",
            "Epoch 19: val_loss did not improve from 0.69322\n",
            "13/13 [==============================] - 1s 64ms/step - loss: 0.0276 - accuracy: 1.0000 - val_loss: 0.7731 - val_accuracy: 0.5000\n",
            "Epoch 20/20\n",
            "13/13 [==============================] - ETA: 0s - loss: 0.0391 - accuracy: 1.0000\n",
            "Epoch 20: val_loss did not improve from 0.69322\n",
            "13/13 [==============================] - 1s 62ms/step - loss: 0.0391 - accuracy: 1.0000 - val_loss: 0.7732 - val_accuracy: 0.5000\n"
          ]
        }
      ]
    }
  ]
}