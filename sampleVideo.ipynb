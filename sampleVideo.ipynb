{
  "nbformat": 4,
  "nbformat_minor": 0,
  "metadata": {
    "colab": {
      "name": "sampleVideo.ipynb",
      "provenance": [],
      "collapsed_sections": [],
      "authorship_tag": "ABX9TyNUzL/rfTjkQ6o2natXeARI",
      "include_colab_link": true
    },
    "kernelspec": {
      "name": "python3",
      "display_name": "Python 3"
    },
    "language_info": {
      "name": "python"
    }
  },
  "cells": [
    {
      "cell_type": "markdown",
      "metadata": {
        "id": "view-in-github",
        "colab_type": "text"
      },
      "source": [
        "<a href=\"https://colab.research.google.com/github/Nadian-Ali/Temporary_Vid_classification/blob/main/sampleVideo.ipynb\" target=\"_parent\"><img src=\"https://colab.research.google.com/assets/colab-badge.svg\" alt=\"Open In Colab\"/></a>"
      ]
    },
    {
      "cell_type": "code",
      "execution_count": null,
      "metadata": {
        "colab": {
          "base_uri": "https://localhost:8080/"
        },
        "id": "opC351jhWtZt",
        "outputId": "957a2c97-b225-4d69-83ee-4b163ca903aa"
      },
      "outputs": [
        {
          "output_type": "stream",
          "name": "stdout",
          "text": [
            "Mounted at /content/drive/\n"
          ]
        }
      ],
      "source": [
        "from google.colab import drive\n",
        "drive.mount('/content/drive/')\n"
      ]
    },
    {
      "cell_type": "code",
      "source": [
        "%cd '/content/drive/My Drive/Projects/Video_Rec/'"
      ],
      "metadata": {
        "colab": {
          "base_uri": "https://localhost:8080/"
        },
        "id": "Xp7XAggKW3Dr",
        "outputId": "02ff7218-910f-48f5-a42f-38391c4a10d1"
      },
      "execution_count": null,
      "outputs": [
        {
          "output_type": "stream",
          "name": "stdout",
          "text": [
            "/content/drive/My Drive/Projects/Video_Rec\n"
          ]
        }
      ]
    },
    {
      "cell_type": "code",
      "source": [
        "import numpy as np\n",
        "import os\n",
        "import pandas as pd"
      ],
      "metadata": {
        "id": "PDwW2c_8W3IA"
      },
      "execution_count": null,
      "outputs": []
    },
    {
      "cell_type": "code",
      "source": [
        "%ls"
      ],
      "metadata": {
        "colab": {
          "base_uri": "https://localhost:8080/"
        },
        "id": "gLjCjp3ySr_l",
        "outputId": "ad7834aa-4aab-4d12-c339-a4b436ff8623"
      },
      "execution_count": null,
      "outputs": [
        {
          "output_type": "stream",
          "name": "stdout",
          "text": [
            "\u001b[0m\u001b[01;34mDataset\u001b[0m/  train_data.npy  train_mask.npy  val_data.npy  val_mask.npy  video.avi\n"
          ]
        }
      ]
    },
    {
      "cell_type": "code",
      "source": [
        "train_data = np.load('train_data.npy')\n",
        "val_data = np.load('val_data.npy')"
      ],
      "metadata": {
        "id": "Ic_vjKFIW3Ld"
      },
      "execution_count": null,
      "outputs": []
    },
    {
      "cell_type": "code",
      "source": [
        "print(np.shape(train_data))\n",
        "print(np.shape(val_data))\n"
      ],
      "metadata": {
        "colab": {
          "base_uri": "https://localhost:8080/"
        },
        "id": "htl2svMoS3W0",
        "outputId": "1d60d05a-a706-453f-b05f-a76b4e42a447"
      },
      "execution_count": null,
      "outputs": [
        {
          "output_type": "stream",
          "name": "stdout",
          "text": [
            "(13, 500, 1024)\n",
            "(6, 500, 1024)\n"
          ]
        }
      ]
    },
    {
      "cell_type": "code",
      "source": [
        "root =  '/content/drive/My Drive/Projects/Video_Rec/'\n",
        "data_set      = 'Dataset'\n",
        "\n",
        "train         = 'train'\n",
        "val           = 'val'\n",
        "train_ann     = 'train_action_classes.csv'\n",
        "val_ann       = 'val_action_classes.csv'\n",
        "videos_pth    = os.path.join(root,data_set)\n",
        "train_df_path = os.path.join(root,data_set,train_ann)\n",
        "val_df_path   = os.path.join(root,data_set,val_ann)\n",
        "path_to_train = '/content/drive/My Drive/Projects/Video_Rec/Dataset/train'\n",
        "path_to_val   = '/content/drive/My Drive/Projects/Video_Rec/Dataset/val'\n",
        "\n",
        "\n",
        "##\n",
        "Num_Segs = 20\n",
        "max_frames= 500\n",
        "feature_size = 1024"
      ],
      "metadata": {
        "id": "BDkmNZ8VsX2R"
      },
      "execution_count": null,
      "outputs": []
    },
    {
      "cell_type": "markdown",
      "source": [
        "#Assumin actions are centered in the video :\n",
        "<ul>\n",
        "  <li> Action starts a few frames after start</li>\n",
        "  <li> Actions finish by the end of the videio</li>\n",
        "  <li> Actions is well distributed with in the video</li>\n",
        "\n",
        "lets sample the video\n",
        "\n",
        "If video has T frames; \n",
        "* we will select 20 segements from it ! \n",
        "* for started we take a representative frame from each segement \n",
        "* so take the video \n",
        "* dive into 20 segements\n",
        "* take the middle frame \n",
        "\n"
      ],
      "metadata": {
        "id": "zn0xRUoNZKan"
      }
    },
    {
      "cell_type": "markdown",
      "source": [
        "#load the csv files again \n",
        "train_df = pd.read_csv(train_df_path)"
      ],
      "metadata": {
        "id": "SAD9-Z8Frz3X"
      }
    },
    {
      "cell_type": "code",
      "source": [
        "train_df = pd.read_csv(train_df_path)\n",
        "val_df =  pd.read_csv(val_df_path)"
      ],
      "metadata": {
        "id": "iRyo-YZNunbk"
      },
      "execution_count": null,
      "outputs": []
    },
    {
      "cell_type": "code",
      "source": [
        "# val_df.head(10)"
      ],
      "metadata": {
        "id": "qs5M3nrI4q9p"
      },
      "execution_count": null,
      "outputs": []
    },
    {
      "cell_type": "markdown",
      "source": [
        "# Extract class labels."
      ],
      "metadata": {
        "id": "DZrQkDFLH7-H"
      }
    },
    {
      "cell_type": "code",
      "source": [
        "train_df['label'] = train_df['action_class'].map(lambda x: 1 if 'take' in x else 0)\n",
        "train_labels = np.array(train_df['label'].tolist())\n",
        "print(train_labels)"
      ],
      "metadata": {
        "id": "iqJwdlgUsV_Q",
        "colab": {
          "base_uri": "https://localhost:8080/"
        },
        "outputId": "06c847d6-b627-4f8d-dff0-1b0ac9dcaa6c"
      },
      "execution_count": null,
      "outputs": [
        {
          "output_type": "stream",
          "name": "stdout",
          "text": [
            "[1 1 1 0 1 0 1 0 1 1 1 0 0]\n"
          ]
        }
      ]
    },
    {
      "cell_type": "code",
      "source": [
        "val_df['label'] = val_df['action_class'].map(lambda x: 1 if 'take' in x else 0)\n",
        "val_labels = np.array(val_df['label'].tolist())\n",
        "print(val_labels)"
      ],
      "metadata": {
        "colab": {
          "base_uri": "https://localhost:8080/"
        },
        "id": "KENHHw__B_9p",
        "outputId": "50eaa930-d497-4a46-bc84-fe47b3e87408"
      },
      "execution_count": null,
      "outputs": [
        {
          "output_type": "stream",
          "name": "stdout",
          "text": [
            "[0 1 1 1 0 0]\n"
          ]
        }
      ]
    },
    {
      "cell_type": "code",
      "source": [
        ""
      ],
      "metadata": {
        "id": "9xgl2Em1_G7J"
      },
      "execution_count": null,
      "outputs": []
    },
    {
      "cell_type": "markdown",
      "source": [
        "<h3>Get number of frames in the video</h3>"
      ],
      "metadata": {
        "id": "WTOKoTPFIG9L"
      }
    },
    {
      "cell_type": "code",
      "source": [
        "def num_frames(df, start_rame = 'start_frame', stop_frame = 'stop_frame'):\n",
        "\n",
        "  return (df['stop_frame']-df['start_frame']).tolist() \n",
        "\n",
        "print('num training frames is: ',num_frames(train_df))\n",
        "print('num training frames is: ',num_frames(val_df))\n",
        "print('num training frames is: ',num_frames(val_df.loc[0]))"
      ],
      "metadata": {
        "colab": {
          "base_uri": "https://localhost:8080/"
        },
        "id": "Lb0GQaRQY-9T",
        "outputId": "55481e5a-6a32-425c-a5ae-c6e91deb5072"
      },
      "execution_count": null,
      "outputs": [
        {
          "output_type": "stream",
          "name": "stdout",
          "text": [
            "num training frames is:  [54, 112, 109, 111, 86, 630, 57, 47, 142, 131, 90, 95, 150]\n",
            "num training frames is:  [461, 69, 102, 197, 807, 89]\n",
            "num training frames is:  461\n"
          ]
        }
      ]
    },
    {
      "cell_type": "markdown",
      "source": [
        "<h3>Get index of frames that are going to be fed into the network </h3>\n"
      ],
      "metadata": {
        "id": "gj8sVV8UIL1K"
      }
    },
    {
      "cell_type": "code",
      "source": [
        "def resample_frames(frame,Num_Seg=Num_Segs):\n",
        "    \n",
        "  interval = frame//Num_Seg\n",
        "#pad or truncate frames / padd with last frame \n",
        "  if (frame%Num_Seg) > (Num_Seg/2):\n",
        "        #3                10\n",
        "    to_pad =  (Num_Seg - frame%Num_Seg)\n",
        "    B = np.pad(np.array(list(range(frame))),(0,to_pad),constant_values = frame)\n",
        "\n",
        "  elif (frame%Num_Seg) <= (Num_Seg/2):\n",
        "    to_remove =  frame%Num_Seg\n",
        "    B = list(range(frame-to_remove))\n",
        "#  create chuncks    \n",
        "  interval = len(B)//Num_Seg\n",
        "  w = B[::interval]\n",
        "\n",
        "#sample middle frames \n",
        "  middle = [round((w[i+1]+w[i])/2) for i in range(len(w)-1)]\n",
        "  middle.append(frame)\n",
        "\n",
        "  return middle\n",
        "\n",
        "# print(w,'len wanted frames = ',len(w)) \n",
        "# print(middle,'len wanted frames = ',len(middle))"
      ],
      "metadata": {
        "id": "zm2R1eSKRqu7"
      },
      "execution_count": null,
      "outputs": []
    },
    {
      "cell_type": "code",
      "source": [
        "def get_resampled_dataset(dataset,df,Num_Segs=20):\n",
        "  resampled_dataset = np.zeros((len(dataset),Num_Segs,feature_size))\n",
        "\n",
        "  for i,feature_sequence in enumerate(dataset):\n",
        "    # resampled_dataset = np.zeros()\n",
        "    frames = num_frames(df.loc[i])\n",
        "    frames = min(frames,max_frames-1)\n",
        "    wanted_frames = resample_frames(frames,Num_Segs)\n",
        "    # print(wanted_frames, 'len wanted frames is {}'.format(len(wanted_frames)))\n",
        "    resampled_dataset[i,:,:] = dataset[i,wanted_frames,:]\n",
        "  return resampled_dataset\n",
        "\n"
      ],
      "metadata": {
        "id": "9Tvwq3zvVk9L"
      },
      "execution_count": null,
      "outputs": []
    },
    {
      "cell_type": "markdown",
      "source": [
        "<h1>create resmapled dataset</h1>"
      ],
      "metadata": {
        "id": "O7ClaSM6jDm6"
      }
    },
    {
      "cell_type": "code",
      "source": [
        "resampled_train_dataset = get_resampled_dataset(dataset = train_data,df= train_df)\n",
        "resampled_val_dataset =  get_resampled_dataset(dataset = val_data,df= val_df)"
      ],
      "metadata": {
        "id": "fZ740CfRjBpS"
      },
      "execution_count": null,
      "outputs": []
    },
    {
      "cell_type": "code",
      "source": [
        "%pwd"
      ],
      "metadata": {
        "colab": {
          "base_uri": "https://localhost:8080/",
          "height": 35
        },
        "id": "2DL2ysLFjc7d",
        "outputId": "24ef896f-20bd-42e3-f9a7-8d1b691e914f"
      },
      "execution_count": null,
      "outputs": [
        {
          "output_type": "execute_result",
          "data": {
            "text/plain": [
              "'/content/drive/MyDrive/Projects/Video_Rec'"
            ],
            "application/vnd.google.colaboratory.intrinsic+json": {
              "type": "string"
            }
          },
          "metadata": {},
          "execution_count": 334
        }
      ]
    },
    {
      "cell_type": "markdown",
      "source": [
        "<h1>Save training validation Label data</h1> "
      ],
      "metadata": {
        "id": "gltKhu5putqi"
      }
    },
    {
      "cell_type": "markdown",
      "source": [
        "<h4>save samples</h4>\n"
      ],
      "metadata": {
        "id": "6S9ITGxZy1AZ"
      }
    },
    {
      "cell_type": "code",
      "source": [
        "np.save('resampled_train_dataset.npy',resampled_train_dataset)\n",
        "np.save('resampled_val_dataset.npy',resampled_val_dataset)\n"
      ],
      "metadata": {
        "id": "pzjEeZJ3jOIp"
      },
      "execution_count": null,
      "outputs": []
    },
    {
      "cell_type": "markdown",
      "source": [
        "<h4>save labels</h1>"
      ],
      "metadata": {
        "id": "frT6XXRpyxFm"
      }
    },
    {
      "cell_type": "code",
      "source": [
        "np.save('train_labels.npy',train_labels)\n",
        "np.save('val_labels.npy',val_labels)"
      ],
      "metadata": {
        "id": "e9Z7uCsmuyh2"
      },
      "execution_count": null,
      "outputs": []
    },
    {
      "cell_type": "markdown",
      "source": [
        "<"
      ],
      "metadata": {
        "id": "wuTml3injCTG"
      }
    },
    {
      "cell_type": "markdown",
      "source": [
        "<h1>Ignore code below its jut for my own tests</h1>"
      ],
      "metadata": {
        "id": "qQdV7bayixxQ"
      }
    },
    {
      "cell_type": "code",
      "source": [
        "%pwd"
      ],
      "metadata": {
        "colab": {
          "base_uri": "https://localhost:8080/",
          "height": 35
        },
        "id": "30gQ9-wFy6uR",
        "outputId": "eca9d565-2b52-4073-afef-4446051f7905"
      },
      "execution_count": null,
      "outputs": [
        {
          "output_type": "execute_result",
          "data": {
            "text/plain": [
              "'/content/drive/MyDrive/Projects/Video_Rec'"
            ],
            "application/vnd.google.colaboratory.intrinsic+json": {
              "type": "string"
            }
          },
          "metadata": {},
          "execution_count": 335
        }
      ]
    },
    {
      "cell_type": "code",
      "source": [
        "resampled_train_dataset[1,1:3,:10]"
      ],
      "metadata": {
        "colab": {
          "base_uri": "https://localhost:8080/"
        },
        "id": "HdjoMOGAcepQ",
        "outputId": "a5dbc1ec-fcad-4c16-8db9-76cdd196b48e"
      },
      "execution_count": null,
      "outputs": [
        {
          "output_type": "execute_result",
          "data": {
            "text/plain": [
              "array([[8.03594303e-04, 6.56855851e-03, 4.35690861e-03, 4.15162975e-03,\n",
              "        2.11536229e-01, 1.48617578e+00, 6.97014795e-04, 5.03662927e-03,\n",
              "        2.93266475e-01, 8.64731672e-04],\n",
              "       [9.54095274e-04, 6.79056859e-03, 5.32030361e-03, 4.98799421e-03,\n",
              "        1.93116426e-01, 1.83430433e+00, 1.07741205e-03, 4.86542471e-03,\n",
              "        2.74755239e-01, 1.15195953e-03]])"
            ]
          },
          "metadata": {},
          "execution_count": 325
        }
      ]
    },
    {
      "cell_type": "code",
      "source": [
        "train_data_resampled = np.zeros((len(train_data),Num_Segs,feature_size))\n",
        "\n",
        "for i,feature_sequence in enumerate(train_data):\n",
        "  frames = num_frames(train_df.loc[i])\n",
        "  frames = min(frames,499)\n",
        "  wanted_frames = resample_frames(frames,Num_Segs)\n",
        "  print(wanted_frames, 'len wanted frames is {}'.format(len(wanted_frames)))\n",
        "  train_data_resampled[i,:,:] = train_data[i,wanted_frames,:]"
      ],
      "metadata": {
        "id": "mcns0qlzRxvZ"
      },
      "execution_count": null,
      "outputs": []
    },
    {
      "cell_type": "code",
      "source": [
        ""
      ],
      "metadata": {
        "id": "QSQcTxS_Vj3R"
      },
      "execution_count": null,
      "outputs": []
    },
    {
      "cell_type": "code",
      "source": [
        "# np.shape(train_data)\n"
      ],
      "metadata": {
        "colab": {
          "base_uri": "https://localhost:8080/"
        },
        "id": "H4SumkCYRx14",
        "outputId": "4a29ef23-19fb-4e99-cb81-8023c6029ba7"
      },
      "execution_count": null,
      "outputs": [
        {
          "output_type": "execute_result",
          "data": {
            "text/plain": [
              "(13, 20, 1024)"
            ]
          },
          "metadata": {},
          "execution_count": 301
        }
      ]
    },
    {
      "cell_type": "code",
      "source": [
        "train_data_resampled[10,1:2,:]"
      ],
      "metadata": {
        "colab": {
          "base_uri": "https://localhost:8080/"
        },
        "id": "yoFrJGj6Rx7b",
        "outputId": "e2a4664e-dc81-48bc-ac2c-161f0e758f5d"
      },
      "execution_count": null,
      "outputs": [
        {
          "output_type": "execute_result",
          "data": {
            "text/plain": [
              "array([[4.35300841e-04, 4.18961095e-03, 2.32251780e-03, ...,\n",
              "        3.28398347e+00, 1.84945926e-01, 1.27788126e+00]])"
            ]
          },
          "metadata": {},
          "execution_count": 316
        }
      ]
    },
    {
      "cell_type": "code",
      "source": [
        "\n",
        "def get_idx_samples(df,num_segs=Num_Segs):\n",
        "\n",
        "\n",
        "  frames = num_frames(df)\n",
        "  m = \n",
        "  frames = min(max_frames,frames)\n",
        "  intervals = round(frames/num_segs)\n",
        "#  return list(range(df['start_frame'],min(df['stop_frame'],max_frames),intervals)),frames\n",
        "  # wanted_frames  = [list(range(0,frames,intervals))]\n",
        "  indices= list(range(0,frames+1,intervals)) \n",
        "  if len(indices)<Num_Segs:\n",
        "    indices.append(frames)\n",
        "  \n",
        "  # print(type(indices))\n",
        "  # print(frames,'this is frmaes')\n",
        "  indices.append(frames)\n",
        "  wanted_frames = [round((indices[i]+indices[i+1])/2) for i in range(len(indices)-1)]\n",
        "  \n",
        "  return intervals,indices,wanted_frames,frames\n",
        "  \n",
        "intervals,indices,wanted_frames,frames = get_idx_samples(train_df.loc[2],Num_Segs)\n",
        "\n",
        "print('intervals: ',intervals)\n",
        "# print('len intervals =',len(intervals))\n",
        "print('len frames is {}'.format(frames))\n",
        "print(indices)\n",
        "print(wanted_frames)\n",
        "print('len frames =',len(wanted_frames))"
      ],
      "metadata": {
        "colab": {
          "base_uri": "https://localhost:8080/"
        },
        "id": "CLDA3jxHsVcj",
        "outputId": "d31e6b2d-82b5-47ed-dd4b-2e952c71f071"
      },
      "execution_count": null,
      "outputs": [
        {
          "output_type": "stream",
          "name": "stdout",
          "text": [
            "intervals:  5\n",
            "len frames is 109\n",
            "[0, 5, 10, 15, 20, 25, 30, 35, 40, 45, 50, 55, 60, 65, 70, 75, 80, 85, 90, 95, 100, 105, 109]\n",
            "[2, 8, 12, 18, 22, 28, 32, 38, 42, 48, 52, 58, 62, 68, 72, 78, 82, 88, 92, 98, 102, 107]\n",
            "len frames = 22\n"
          ]
        }
      ]
    },
    {
      "cell_type": "markdown",
      "source": [
        "# Get needed frames "
      ],
      "metadata": {
        "id": "teNZMHeNQG3t"
      }
    },
    {
      "cell_type": "code",
      "source": [
        "train_samples = np.shape(train_data)[0]\n",
        "val_samples = np.shape(val_data)[0]\n",
        "\n",
        "print('number of training samples is {}'.format(train_samples))\n",
        "print('number of trainvalidation  samples is {}'.format(val_samples))\n",
        "\n",
        "print('labels for class take in train data is {}'.format(len(train_labels)))\n",
        "print('labels for class open in validation data is {}'.format(len(val_labels)))"
      ],
      "metadata": {
        "colab": {
          "base_uri": "https://localhost:8080/"
        },
        "id": "4guiLaWKSSC6",
        "outputId": "81d5b1be-67e5-47a1-b6c2-ba3793065065"
      },
      "execution_count": null,
      "outputs": [
        {
          "output_type": "stream",
          "name": "stdout",
          "text": [
            "number of training samples is 13\n",
            "number of trainvalidation  samples is 6\n",
            "labels for class take in train data is 13\n",
            "labels for class open in validation data is 6\n"
          ]
        }
      ]
    },
    {
      "cell_type": "code",
      "source": [
        "\n",
        "# do for training data\n",
        "df = train_df\n",
        "\n",
        "new_train = np.zeros((train_samples,Num_Segs,feature_size))\n",
        "# fed\n",
        "\n",
        "for i in range(4,5):\n",
        "    # wanted_frame_in_a_vedio = train_df.loc[i]\n",
        "    wanted_frames ,frames = get_idx_samples(df.loc[i],num_segs=Num_Segs)\n",
        "    print(i)\n",
        "    print(wanted_frames)\n",
        "    print(feature_size)\n",
        "    new_train = train_data[i,wanted_frames,:]\n",
        "\n",
        "\n",
        "\n",
        "#do for validation data\n",
        "\n",
        "\n",
        "\n",
        "\n"
      ],
      "metadata": {
        "id": "SO-8ij5bQFxK",
        "colab": {
          "base_uri": "https://localhost:8080/"
        },
        "outputId": "33bd7308-f2b2-4117-f33a-0994476ab641"
      },
      "execution_count": null,
      "outputs": [
        {
          "output_type": "stream",
          "name": "stdout",
          "text": [
            "4\n",
            "[2, 6, 10, 14, 18, 22, 26, 30, 34, 38, 42, 46, 50, 54, 58, 62, 66, 70, 74, 78, 82]\n",
            "1024\n"
          ]
        }
      ]
    },
    {
      "cell_type": "code",
      "source": [
        "# a = list(range(0,21))\n",
        "# m= len(a) % 20\n",
        "# Num_Seg = 20\n",
        "# if m >(2%Num_Seg)\n",
        "\n",
        "frame = 52\n",
        "\n",
        "Num_Seg= 20\n",
        "extr = 43%20\n",
        "interval = frame//Num_Seg\n",
        "if (frame%Num_Seg) > (Num_Seg/2):\n",
        "      #3                10\n",
        "  frame = frame + (Num_Seg - frame%Num_Seg)\n",
        "elif (frame%Num_Seg) <= (Num_Seg/2):\n",
        "  frame = frame - frame%Num_Seg\n",
        "  \n",
        "print(interval)\n",
        "print(frame)"
      ],
      "metadata": {
        "colab": {
          "base_uri": "https://localhost:8080/"
        },
        "id": "M3k4bU4pgJFX",
        "outputId": "3c808239-a165-4f03-b901-cd59b0e23e10"
      },
      "execution_count": null,
      "outputs": [
        {
          "output_type": "stream",
          "name": "stdout",
          "text": [
            "2\n",
            "60\n"
          ]
        }
      ]
    },
    {
      "cell_type": "code",
      "source": [
        "frame = 1524\n",
        "Num_Seg = 20\n",
        "interval = frame//Num_Seg\n",
        "\n",
        "if (frame%Num_Seg) > (Num_Seg/2):\n",
        "      #3                10\n",
        "  to_pad =  (Num_Seg - frame%Num_Seg)\n",
        "  B = np.pad(np.array(list(range(frame))),(0,to_pad),constant_values = frame)\n",
        "\n",
        "elif (frame%Num_Seg) <= (Num_Seg/2):\n",
        "  to_remove =  frame%Num_Seg\n",
        "  B = list(range(frame-to_remove))\n",
        "  \n",
        "\n",
        "\n",
        "interval = len(B)//Num_Seg\n",
        "w = B[::interval]\n",
        "\n",
        "middle = [round((w[i+1]+w[i])/2) for i in range(len(w)-1)]\n",
        "middle.append(frame)\n",
        "\n",
        "print(w,'len wanted frames = ',len(w)) \n",
        "print(middle,'len wanted frames = ',len(middle))"
      ],
      "metadata": {
        "colab": {
          "base_uri": "https://localhost:8080/"
        },
        "id": "qj25Zr0SAvGa",
        "outputId": "68a9d533-a952-446e-f612-65f573051bfd"
      },
      "execution_count": null,
      "outputs": [
        {
          "output_type": "stream",
          "name": "stdout",
          "text": [
            "[0, 76, 152, 228, 304, 380, 456, 532, 608, 684, 760, 836, 912, 988, 1064, 1140, 1216, 1292, 1368, 1444] len wanted frames =  20\n",
            "[38, 114, 190, 266, 342, 418, 494, 570, 646, 722, 798, 874, 950, 1026, 1102, 1178, 1254, 1330, 1406, 1524] len wanted frames =  20\n"
          ]
        }
      ]
    },
    {
      "cell_type": "code",
      "source": [
        "def resample_video_features(frame,Num_Seg):\n",
        "    \n",
        "  interval = frame//Num_Seg\n",
        "#pad or truncate frames / padd with last frame \n",
        "  if (frame%Num_Seg) > (Num_Seg/2):\n",
        "        #3                10\n",
        "    to_pad =  (Num_Seg - frame%Num_Seg)\n",
        "    B = np.pad(np.array(list(range(frame))),(0,to_pad),constant_values = frame)\n",
        "\n",
        "  elif (frame%Num_Seg) <= (Num_Seg/2):\n",
        "    to_remove =  frame%Num_Seg\n",
        "    B = list(range(frame-to_remove))\n",
        "#  create chuncks    \n",
        "  interval = len(B)//Num_Seg\n",
        "  w = B[::interval]\n",
        "\n",
        "#sample middle frames \n",
        "  middle = [round((w[i+1]+w[i])/2) for i in range(len(w)-1)]\n",
        "  # middle.append(frame)\n",
        "\n",
        "  return middle\n",
        "\n",
        "# print(w,'len wanted frames = ',len(w)) \n",
        "# print(middle,'len wanted frames = ',len(middle))"
      ],
      "metadata": {
        "id": "LcrKvD4gQy07"
      },
      "execution_count": null,
      "outputs": []
    },
    {
      "cell_type": "code",
      "source": [
        ""
      ],
      "metadata": {
        "colab": {
          "base_uri": "https://localhost:8080/"
        },
        "id": "JJcZ8DN0C173",
        "outputId": "9993e467-a5e6-4741-a1d3-7acb27434869"
      },
      "execution_count": null,
      "outputs": [
        {
          "output_type": "stream",
          "name": "stdout",
          "text": [
            "19\n",
            "39\n",
            "40\n"
          ]
        }
      ]
    }
  ]
}